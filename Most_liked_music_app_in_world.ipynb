{
  "metadata": {
    "kernelspec": {
      "language": "python",
      "display_name": "Python 3",
      "name": "python3"
    },
    "language_info": {
      "name": "python",
      "version": "3.11.11",
      "mimetype": "text/x-python",
      "codemirror_mode": {
        "name": "ipython",
        "version": 3
      },
      "pygments_lexer": "ipython3",
      "nbconvert_exporter": "python",
      "file_extension": ".py"
    },
    "kaggle": {
      "accelerator": "none",
      "dataSources": [
        {
          "sourceId": 11920654,
          "sourceType": "datasetVersion",
          "datasetId": 7494334
        }
      ],
      "dockerImageVersionId": 31040,
      "isInternetEnabled": true,
      "language": "python",
      "sourceType": "notebook",
      "isGpuEnabled": false
    },
    "colab": {
      "provenance": [],
      "include_colab_link": true
    }
  },
  "nbformat_minor": 0,
  "nbformat": 4,
  "cells": [
    {
      "cell_type": "markdown",
      "metadata": {
        "id": "view-in-github",
        "colab_type": "text"
      },
      "source": [
        "<a href=\"https://colab.research.google.com/github/mayk9252m/Exploratory-Data-Analysis-With-Python-Pandas-EDA-/blob/main/Most_liked_music_app_in_world.ipynb\" target=\"_parent\"><img src=\"https://colab.research.google.com/assets/colab-badge.svg\" alt=\"Open In Colab\"/></a>"
      ]
    },
    {
      "cell_type": "markdown",
      "source": [
        "# 🎵 Music App Review Analysis\n",
        "This notebook performs an Exploratory Data Analysis (EDA) on app store music review data to understand:\n",
        "- Which music apps are most popular in different countries\n",
        "- How users rate these apps\n",
        "- Which app has the highest review count country-wise"
      ],
      "metadata": {
        "id": "epj5g4b7x2Ul"
      }
    },
    {
      "cell_type": "code",
      "source": [
        "import pandas as pd\n",
        "import numpy as np\n",
        "import matplotlib.pyplot as plt\n",
        "import seaborn as sns"
      ],
      "metadata": {
        "_uuid": "8f2839f25d086af736a60e9eeb907d3b93b6e0e5",
        "_cell_guid": "b1076dfc-b9ad-4769-8c92-a6c4dae69d19",
        "trusted": true,
        "execution": {
          "iopub.status.busy": "2025-06-29T21:37:41.832443Z",
          "iopub.execute_input": "2025-06-29T21:37:41.833436Z",
          "iopub.status.idle": "2025-06-29T21:37:41.837588Z",
          "shell.execute_reply.started": "2025-06-29T21:37:41.833377Z",
          "shell.execute_reply": "2025-06-29T21:37:41.836605Z"
        },
        "id": "w_yQdyu-x2Uq"
      },
      "outputs": [],
      "execution_count": 8
    },
    {
      "cell_type": "markdown",
      "source": [
        "## 📥 Step 1: Load and Preview the Dataset\n",
        "We begin by loading the CSV file using `pandas` and previewing the first few rows to understand the structure of the dataset."
      ],
      "metadata": {
        "id": "Zunb0EZvx2Ut"
      }
    },
    {
      "cell_type": "code",
      "source": [
        "# Loading the dataset file (file.csv)\n",
        "df = pd.read_csv(\"/content/app_store_music_reviews.csv\")"
      ],
      "metadata": {
        "trusted": true,
        "execution": {
          "iopub.status.busy": "2025-06-29T21:37:41.838983Z",
          "iopub.execute_input": "2025-06-29T21:37:41.839309Z",
          "iopub.status.idle": "2025-06-29T21:37:41.913564Z",
          "shell.execute_reply.started": "2025-06-29T21:37:41.839282Z",
          "shell.execute_reply": "2025-06-29T21:37:41.912590Z"
        },
        "id": "5p2DMeF-x2Uu"
      },
      "outputs": [],
      "execution_count": 9
    },
    {
      "cell_type": "code",
      "source": [
        "df.head()"
      ],
      "metadata": {
        "trusted": true,
        "execution": {
          "iopub.status.busy": "2025-06-29T21:40:43.062166Z",
          "iopub.execute_input": "2025-06-29T21:40:43.062519Z",
          "iopub.status.idle": "2025-06-29T21:40:43.082477Z",
          "shell.execute_reply.started": "2025-06-29T21:40:43.062494Z",
          "shell.execute_reply": "2025-06-29T21:40:43.081505Z"
        },
        "colab": {
          "base_uri": "https://localhost:8080/",
          "height": 293
        },
        "id": "UzEh5Dmcx2Uv",
        "outputId": "1adaa2a6-31d2-4e14-eb6a-e9adfed315ab"
      },
      "outputs": [
        {
          "output_type": "execute_result",
          "data": {
            "text/plain": [
              "           app country                                              title  \\\n",
              "0      Spotify      MX  Muy buena aplicación de música. Casi sin anunc...   \n",
              "1   SoundCloud      US                     I have loved you from day 1 bi   \n",
              "2      Spotify      MX                                            Los amo   \n",
              "3       Deezer      US      Must have a premium account to download music   \n",
              "4  Apple Music      US                                             4 star   \n",
              "\n",
              "                                              review  rating  \\\n",
              "0                                                 La       5   \n",
              "1  Nah fr tho, omm nothing but love for SoundClou...       5   \n",
              "2                                            Los amo       5   \n",
              "3  I got this music app so I could download songs...       1   \n",
              "4  I tunes don’t have all the songs like to liste...       4   \n",
              "\n",
              "                        date  \n",
              "0  2025-05-21 18:57:56-07:00  \n",
              "1  2025-05-21 18:56:41-07:00  \n",
              "2  2025-05-21 18:56:12-07:00  \n",
              "3  2025-05-21 18:50:34-07:00  \n",
              "4  2025-05-21 18:50:04-07:00  "
            ],
            "text/html": [
              "\n",
              "  <div id=\"df-9b652c08-a2f8-461a-8ac1-958dfe0b4c42\" class=\"colab-df-container\">\n",
              "    <div>\n",
              "<style scoped>\n",
              "    .dataframe tbody tr th:only-of-type {\n",
              "        vertical-align: middle;\n",
              "    }\n",
              "\n",
              "    .dataframe tbody tr th {\n",
              "        vertical-align: top;\n",
              "    }\n",
              "\n",
              "    .dataframe thead th {\n",
              "        text-align: right;\n",
              "    }\n",
              "</style>\n",
              "<table border=\"1\" class=\"dataframe\">\n",
              "  <thead>\n",
              "    <tr style=\"text-align: right;\">\n",
              "      <th></th>\n",
              "      <th>app</th>\n",
              "      <th>country</th>\n",
              "      <th>title</th>\n",
              "      <th>review</th>\n",
              "      <th>rating</th>\n",
              "      <th>date</th>\n",
              "    </tr>\n",
              "  </thead>\n",
              "  <tbody>\n",
              "    <tr>\n",
              "      <th>0</th>\n",
              "      <td>Spotify</td>\n",
              "      <td>MX</td>\n",
              "      <td>Muy buena aplicación de música. Casi sin anunc...</td>\n",
              "      <td>La</td>\n",
              "      <td>5</td>\n",
              "      <td>2025-05-21 18:57:56-07:00</td>\n",
              "    </tr>\n",
              "    <tr>\n",
              "      <th>1</th>\n",
              "      <td>SoundCloud</td>\n",
              "      <td>US</td>\n",
              "      <td>I have loved you from day 1 bi</td>\n",
              "      <td>Nah fr tho, omm nothing but love for SoundClou...</td>\n",
              "      <td>5</td>\n",
              "      <td>2025-05-21 18:56:41-07:00</td>\n",
              "    </tr>\n",
              "    <tr>\n",
              "      <th>2</th>\n",
              "      <td>Spotify</td>\n",
              "      <td>MX</td>\n",
              "      <td>Los amo</td>\n",
              "      <td>Los amo</td>\n",
              "      <td>5</td>\n",
              "      <td>2025-05-21 18:56:12-07:00</td>\n",
              "    </tr>\n",
              "    <tr>\n",
              "      <th>3</th>\n",
              "      <td>Deezer</td>\n",
              "      <td>US</td>\n",
              "      <td>Must have a premium account to download music</td>\n",
              "      <td>I got this music app so I could download songs...</td>\n",
              "      <td>1</td>\n",
              "      <td>2025-05-21 18:50:34-07:00</td>\n",
              "    </tr>\n",
              "    <tr>\n",
              "      <th>4</th>\n",
              "      <td>Apple Music</td>\n",
              "      <td>US</td>\n",
              "      <td>4 star</td>\n",
              "      <td>I tunes don’t have all the songs like to liste...</td>\n",
              "      <td>4</td>\n",
              "      <td>2025-05-21 18:50:04-07:00</td>\n",
              "    </tr>\n",
              "  </tbody>\n",
              "</table>\n",
              "</div>\n",
              "    <div class=\"colab-df-buttons\">\n",
              "\n",
              "  <div class=\"colab-df-container\">\n",
              "    <button class=\"colab-df-convert\" onclick=\"convertToInteractive('df-9b652c08-a2f8-461a-8ac1-958dfe0b4c42')\"\n",
              "            title=\"Convert this dataframe to an interactive table.\"\n",
              "            style=\"display:none;\">\n",
              "\n",
              "  <svg xmlns=\"http://www.w3.org/2000/svg\" height=\"24px\" viewBox=\"0 -960 960 960\">\n",
              "    <path d=\"M120-120v-720h720v720H120Zm60-500h600v-160H180v160Zm220 220h160v-160H400v160Zm0 220h160v-160H400v160ZM180-400h160v-160H180v160Zm440 0h160v-160H620v160ZM180-180h160v-160H180v160Zm440 0h160v-160H620v160Z\"/>\n",
              "  </svg>\n",
              "    </button>\n",
              "\n",
              "  <style>\n",
              "    .colab-df-container {\n",
              "      display:flex;\n",
              "      gap: 12px;\n",
              "    }\n",
              "\n",
              "    .colab-df-convert {\n",
              "      background-color: #E8F0FE;\n",
              "      border: none;\n",
              "      border-radius: 50%;\n",
              "      cursor: pointer;\n",
              "      display: none;\n",
              "      fill: #1967D2;\n",
              "      height: 32px;\n",
              "      padding: 0 0 0 0;\n",
              "      width: 32px;\n",
              "    }\n",
              "\n",
              "    .colab-df-convert:hover {\n",
              "      background-color: #E2EBFA;\n",
              "      box-shadow: 0px 1px 2px rgba(60, 64, 67, 0.3), 0px 1px 3px 1px rgba(60, 64, 67, 0.15);\n",
              "      fill: #174EA6;\n",
              "    }\n",
              "\n",
              "    .colab-df-buttons div {\n",
              "      margin-bottom: 4px;\n",
              "    }\n",
              "\n",
              "    [theme=dark] .colab-df-convert {\n",
              "      background-color: #3B4455;\n",
              "      fill: #D2E3FC;\n",
              "    }\n",
              "\n",
              "    [theme=dark] .colab-df-convert:hover {\n",
              "      background-color: #434B5C;\n",
              "      box-shadow: 0px 1px 3px 1px rgba(0, 0, 0, 0.15);\n",
              "      filter: drop-shadow(0px 1px 2px rgba(0, 0, 0, 0.3));\n",
              "      fill: #FFFFFF;\n",
              "    }\n",
              "  </style>\n",
              "\n",
              "    <script>\n",
              "      const buttonEl =\n",
              "        document.querySelector('#df-9b652c08-a2f8-461a-8ac1-958dfe0b4c42 button.colab-df-convert');\n",
              "      buttonEl.style.display =\n",
              "        google.colab.kernel.accessAllowed ? 'block' : 'none';\n",
              "\n",
              "      async function convertToInteractive(key) {\n",
              "        const element = document.querySelector('#df-9b652c08-a2f8-461a-8ac1-958dfe0b4c42');\n",
              "        const dataTable =\n",
              "          await google.colab.kernel.invokeFunction('convertToInteractive',\n",
              "                                                    [key], {});\n",
              "        if (!dataTable) return;\n",
              "\n",
              "        const docLinkHtml = 'Like what you see? Visit the ' +\n",
              "          '<a target=\"_blank\" href=https://colab.research.google.com/notebooks/data_table.ipynb>data table notebook</a>'\n",
              "          + ' to learn more about interactive tables.';\n",
              "        element.innerHTML = '';\n",
              "        dataTable['output_type'] = 'display_data';\n",
              "        await google.colab.output.renderOutput(dataTable, element);\n",
              "        const docLink = document.createElement('div');\n",
              "        docLink.innerHTML = docLinkHtml;\n",
              "        element.appendChild(docLink);\n",
              "      }\n",
              "    </script>\n",
              "  </div>\n",
              "\n",
              "\n",
              "    <div id=\"df-80e9400b-5b5a-4053-85ba-50e69c62d867\">\n",
              "      <button class=\"colab-df-quickchart\" onclick=\"quickchart('df-80e9400b-5b5a-4053-85ba-50e69c62d867')\"\n",
              "                title=\"Suggest charts\"\n",
              "                style=\"display:none;\">\n",
              "\n",
              "<svg xmlns=\"http://www.w3.org/2000/svg\" height=\"24px\"viewBox=\"0 0 24 24\"\n",
              "     width=\"24px\">\n",
              "    <g>\n",
              "        <path d=\"M19 3H5c-1.1 0-2 .9-2 2v14c0 1.1.9 2 2 2h14c1.1 0 2-.9 2-2V5c0-1.1-.9-2-2-2zM9 17H7v-7h2v7zm4 0h-2V7h2v10zm4 0h-2v-4h2v4z\"/>\n",
              "    </g>\n",
              "</svg>\n",
              "      </button>\n",
              "\n",
              "<style>\n",
              "  .colab-df-quickchart {\n",
              "      --bg-color: #E8F0FE;\n",
              "      --fill-color: #1967D2;\n",
              "      --hover-bg-color: #E2EBFA;\n",
              "      --hover-fill-color: #174EA6;\n",
              "      --disabled-fill-color: #AAA;\n",
              "      --disabled-bg-color: #DDD;\n",
              "  }\n",
              "\n",
              "  [theme=dark] .colab-df-quickchart {\n",
              "      --bg-color: #3B4455;\n",
              "      --fill-color: #D2E3FC;\n",
              "      --hover-bg-color: #434B5C;\n",
              "      --hover-fill-color: #FFFFFF;\n",
              "      --disabled-bg-color: #3B4455;\n",
              "      --disabled-fill-color: #666;\n",
              "  }\n",
              "\n",
              "  .colab-df-quickchart {\n",
              "    background-color: var(--bg-color);\n",
              "    border: none;\n",
              "    border-radius: 50%;\n",
              "    cursor: pointer;\n",
              "    display: none;\n",
              "    fill: var(--fill-color);\n",
              "    height: 32px;\n",
              "    padding: 0;\n",
              "    width: 32px;\n",
              "  }\n",
              "\n",
              "  .colab-df-quickchart:hover {\n",
              "    background-color: var(--hover-bg-color);\n",
              "    box-shadow: 0 1px 2px rgba(60, 64, 67, 0.3), 0 1px 3px 1px rgba(60, 64, 67, 0.15);\n",
              "    fill: var(--button-hover-fill-color);\n",
              "  }\n",
              "\n",
              "  .colab-df-quickchart-complete:disabled,\n",
              "  .colab-df-quickchart-complete:disabled:hover {\n",
              "    background-color: var(--disabled-bg-color);\n",
              "    fill: var(--disabled-fill-color);\n",
              "    box-shadow: none;\n",
              "  }\n",
              "\n",
              "  .colab-df-spinner {\n",
              "    border: 2px solid var(--fill-color);\n",
              "    border-color: transparent;\n",
              "    border-bottom-color: var(--fill-color);\n",
              "    animation:\n",
              "      spin 1s steps(1) infinite;\n",
              "  }\n",
              "\n",
              "  @keyframes spin {\n",
              "    0% {\n",
              "      border-color: transparent;\n",
              "      border-bottom-color: var(--fill-color);\n",
              "      border-left-color: var(--fill-color);\n",
              "    }\n",
              "    20% {\n",
              "      border-color: transparent;\n",
              "      border-left-color: var(--fill-color);\n",
              "      border-top-color: var(--fill-color);\n",
              "    }\n",
              "    30% {\n",
              "      border-color: transparent;\n",
              "      border-left-color: var(--fill-color);\n",
              "      border-top-color: var(--fill-color);\n",
              "      border-right-color: var(--fill-color);\n",
              "    }\n",
              "    40% {\n",
              "      border-color: transparent;\n",
              "      border-right-color: var(--fill-color);\n",
              "      border-top-color: var(--fill-color);\n",
              "    }\n",
              "    60% {\n",
              "      border-color: transparent;\n",
              "      border-right-color: var(--fill-color);\n",
              "    }\n",
              "    80% {\n",
              "      border-color: transparent;\n",
              "      border-right-color: var(--fill-color);\n",
              "      border-bottom-color: var(--fill-color);\n",
              "    }\n",
              "    90% {\n",
              "      border-color: transparent;\n",
              "      border-bottom-color: var(--fill-color);\n",
              "    }\n",
              "  }\n",
              "</style>\n",
              "\n",
              "      <script>\n",
              "        async function quickchart(key) {\n",
              "          const quickchartButtonEl =\n",
              "            document.querySelector('#' + key + ' button');\n",
              "          quickchartButtonEl.disabled = true;  // To prevent multiple clicks.\n",
              "          quickchartButtonEl.classList.add('colab-df-spinner');\n",
              "          try {\n",
              "            const charts = await google.colab.kernel.invokeFunction(\n",
              "                'suggestCharts', [key], {});\n",
              "          } catch (error) {\n",
              "            console.error('Error during call to suggestCharts:', error);\n",
              "          }\n",
              "          quickchartButtonEl.classList.remove('colab-df-spinner');\n",
              "          quickchartButtonEl.classList.add('colab-df-quickchart-complete');\n",
              "        }\n",
              "        (() => {\n",
              "          let quickchartButtonEl =\n",
              "            document.querySelector('#df-80e9400b-5b5a-4053-85ba-50e69c62d867 button');\n",
              "          quickchartButtonEl.style.display =\n",
              "            google.colab.kernel.accessAllowed ? 'block' : 'none';\n",
              "        })();\n",
              "      </script>\n",
              "    </div>\n",
              "\n",
              "    </div>\n",
              "  </div>\n"
            ],
            "application/vnd.google.colaboratory.intrinsic+json": {
              "type": "dataframe",
              "variable_name": "df",
              "summary": "{\n  \"name\": \"df\",\n  \"rows\": 5640,\n  \"fields\": [\n    {\n      \"column\": \"app\",\n      \"properties\": {\n        \"dtype\": \"category\",\n        \"num_unique_values\": 6,\n        \"samples\": [\n          \"Spotify\",\n          \"SoundCloud\",\n          \"TIDAL\"\n        ],\n        \"semantic_type\": \"\",\n        \"description\": \"\"\n      }\n    },\n    {\n      \"column\": \"country\",\n      \"properties\": {\n        \"dtype\": \"category\",\n        \"num_unique_values\": 20,\n        \"samples\": [\n          \"MX\",\n          \"KR\",\n          \"FI\"\n        ],\n        \"semantic_type\": \"\",\n        \"description\": \"\"\n      }\n    },\n    {\n      \"column\": \"title\",\n      \"properties\": {\n        \"dtype\": \"string\",\n        \"num_unique_values\": 4788,\n        \"samples\": [\n          \"\\u52a9\\u3051\\u3066\",\n          \"Excelente app\",\n          \"Magique !\\u00a0\"\n        ],\n        \"semantic_type\": \"\",\n        \"description\": \"\"\n      }\n    },\n    {\n      \"column\": \"review\",\n      \"properties\": {\n        \"dtype\": \"string\",\n        \"num_unique_values\": 5540,\n        \"samples\": [\n          \"\\u0e09\\u0e31\\u0e19\\u0e23\\u0e31\\u0e01\\u0e17\\u0e35\\u0e48\\u0e08\\u0e30\\u0e1f\\u0e31\\u0e07\\u0e40\\u0e1e\\u0e25\\u0e07\\u0e21\\u0e35\\u0e41\\u0e15\\u0e48\\u0e40\\u0e1e\\u0e25\\u0e07\\u0e40\\u0e1e\\u0e23\\u0e32\\u0e30\\u0e46\",\n          \"The Nest\",\n          \"Utrolig bra lyd\"\n        ],\n        \"semantic_type\": \"\",\n        \"description\": \"\"\n      }\n    },\n    {\n      \"column\": \"rating\",\n      \"properties\": {\n        \"dtype\": \"number\",\n        \"std\": 1,\n        \"min\": 1,\n        \"max\": 5,\n        \"num_unique_values\": 5,\n        \"samples\": [\n          1,\n          3,\n          4\n        ],\n        \"semantic_type\": \"\",\n        \"description\": \"\"\n      }\n    },\n    {\n      \"column\": \"date\",\n      \"properties\": {\n        \"dtype\": \"object\",\n        \"num_unique_values\": 5637,\n        \"samples\": [\n          \"2025-05-03 04:04:59-07:00\",\n          \"2025-05-19 03:52:14-07:00\",\n          \"2025-05-10 14:58:01-07:00\"\n        ],\n        \"semantic_type\": \"\",\n        \"description\": \"\"\n      }\n    }\n  ]\n}"
            }
          },
          "metadata": {},
          "execution_count": 10
        }
      ],
      "execution_count": 10
    },
    {
      "cell_type": "code",
      "source": [
        "df.shape"
      ],
      "metadata": {
        "trusted": true,
        "execution": {
          "iopub.status.busy": "2025-06-29T22:05:59.722302Z",
          "iopub.execute_input": "2025-06-29T22:05:59.722614Z",
          "iopub.status.idle": "2025-06-29T22:05:59.728373Z",
          "shell.execute_reply.started": "2025-06-29T22:05:59.722595Z",
          "shell.execute_reply": "2025-06-29T22:05:59.727630Z"
        },
        "colab": {
          "base_uri": "https://localhost:8080/",
          "height": 0
        },
        "id": "weDSD5ctx2Uw",
        "outputId": "eb7b91c2-6379-40f4-ff3b-44e81d55d1f9"
      },
      "outputs": [
        {
          "output_type": "execute_result",
          "data": {
            "text/plain": [
              "(5640, 6)"
            ]
          },
          "metadata": {},
          "execution_count": 11
        }
      ],
      "execution_count": 11
    },
    {
      "cell_type": "markdown",
      "source": [
        "## 🔎 Step 2: Dataset Information & Missing Values\n",
        "We use `.info()` and `.isnull().sum()` to:\n",
        "- View the column types and number of entries\n",
        "- Check for any missing values in the dataset"
      ],
      "metadata": {
        "id": "3UW2yt7gx2Ux"
      }
    },
    {
      "cell_type": "code",
      "source": [
        "# For Data types & non-null counts\n",
        "df.info()"
      ],
      "metadata": {
        "trusted": true,
        "execution": {
          "iopub.status.busy": "2025-06-29T21:40:58.981856Z",
          "iopub.execute_input": "2025-06-29T21:40:58.982675Z",
          "iopub.status.idle": "2025-06-29T21:40:58.994473Z",
          "shell.execute_reply.started": "2025-06-29T21:40:58.982649Z",
          "shell.execute_reply": "2025-06-29T21:40:58.993268Z"
        },
        "colab": {
          "base_uri": "https://localhost:8080/",
          "height": 0
        },
        "id": "8JJDjbAkx2Uy",
        "outputId": "b75698b0-5915-48a6-ec3a-b5a14d4bd72c"
      },
      "outputs": [
        {
          "output_type": "stream",
          "name": "stdout",
          "text": [
            "<class 'pandas.core.frame.DataFrame'>\n",
            "RangeIndex: 5640 entries, 0 to 5639\n",
            "Data columns (total 6 columns):\n",
            " #   Column   Non-Null Count  Dtype \n",
            "---  ------   --------------  ----- \n",
            " 0   app      5640 non-null   object\n",
            " 1   country  5640 non-null   object\n",
            " 2   title    5640 non-null   object\n",
            " 3   review   5640 non-null   object\n",
            " 4   rating   5640 non-null   int64 \n",
            " 5   date     5640 non-null   object\n",
            "dtypes: int64(1), object(5)\n",
            "memory usage: 264.5+ KB\n"
          ]
        }
      ],
      "execution_count": 12
    },
    {
      "cell_type": "code",
      "source": [
        "# Checking for missing values\n",
        "df.isnull().sum()"
      ],
      "metadata": {
        "trusted": true,
        "execution": {
          "iopub.status.busy": "2025-06-29T21:41:11.827432Z",
          "iopub.execute_input": "2025-06-29T21:41:11.827952Z",
          "iopub.status.idle": "2025-06-29T21:41:11.838373Z",
          "shell.execute_reply.started": "2025-06-29T21:41:11.827918Z",
          "shell.execute_reply": "2025-06-29T21:41:11.837401Z"
        },
        "colab": {
          "base_uri": "https://localhost:8080/",
          "height": 272
        },
        "id": "_vyafPmDx2Uz",
        "outputId": "0305b457-e468-453b-aaee-e12e76fc612c"
      },
      "outputs": [
        {
          "output_type": "execute_result",
          "data": {
            "text/plain": [
              "app        0\n",
              "country    0\n",
              "title      0\n",
              "review     0\n",
              "rating     0\n",
              "date       0\n",
              "dtype: int64"
            ],
            "text/html": [
              "<div>\n",
              "<style scoped>\n",
              "    .dataframe tbody tr th:only-of-type {\n",
              "        vertical-align: middle;\n",
              "    }\n",
              "\n",
              "    .dataframe tbody tr th {\n",
              "        vertical-align: top;\n",
              "    }\n",
              "\n",
              "    .dataframe thead th {\n",
              "        text-align: right;\n",
              "    }\n",
              "</style>\n",
              "<table border=\"1\" class=\"dataframe\">\n",
              "  <thead>\n",
              "    <tr style=\"text-align: right;\">\n",
              "      <th></th>\n",
              "      <th>0</th>\n",
              "    </tr>\n",
              "  </thead>\n",
              "  <tbody>\n",
              "    <tr>\n",
              "      <th>app</th>\n",
              "      <td>0</td>\n",
              "    </tr>\n",
              "    <tr>\n",
              "      <th>country</th>\n",
              "      <td>0</td>\n",
              "    </tr>\n",
              "    <tr>\n",
              "      <th>title</th>\n",
              "      <td>0</td>\n",
              "    </tr>\n",
              "    <tr>\n",
              "      <th>review</th>\n",
              "      <td>0</td>\n",
              "    </tr>\n",
              "    <tr>\n",
              "      <th>rating</th>\n",
              "      <td>0</td>\n",
              "    </tr>\n",
              "    <tr>\n",
              "      <th>date</th>\n",
              "      <td>0</td>\n",
              "    </tr>\n",
              "  </tbody>\n",
              "</table>\n",
              "</div><br><label><b>dtype:</b> int64</label>"
            ]
          },
          "metadata": {},
          "execution_count": 13
        }
      ],
      "execution_count": 13
    },
    {
      "cell_type": "markdown",
      "source": [
        "**Result:** So, as this Dataset don't have any null set. So, we countiny the process of EDA."
      ],
      "metadata": {
        "id": "mIATH3imx2Uz"
      }
    },
    {
      "cell_type": "markdown",
      "source": [
        "## 📊 Step 3: Descriptive Statistics\n",
        "We generate descriptive statistics using `.describe()` to get a quick summary of:\n",
        "- Count of values\n",
        "- Unique values (for categorical data)\n",
        "- Frequency of top items, etc."
      ],
      "metadata": {
        "id": "J892m4-9x2Uz"
      }
    },
    {
      "cell_type": "code",
      "source": [
        "# Descriptive stats\n",
        "df.describe(include='all')"
      ],
      "metadata": {
        "trusted": true,
        "execution": {
          "iopub.status.busy": "2025-06-29T21:41:23.126865Z",
          "iopub.execute_input": "2025-06-29T21:41:23.127163Z",
          "iopub.status.idle": "2025-06-29T21:41:23.159571Z",
          "shell.execute_reply.started": "2025-06-29T21:41:23.127115Z",
          "shell.execute_reply": "2025-06-29T21:41:23.158708Z"
        },
        "colab": {
          "base_uri": "https://localhost:8080/",
          "height": 394
        },
        "id": "NAI6lBghx2U0",
        "outputId": "2c74bc7e-7c61-48e0-c157-2b3a0c1adc5c"
      },
      "outputs": [
        {
          "output_type": "execute_result",
          "data": {
            "text/plain": [
              "               app country    title   review       rating  \\\n",
              "count         5640    5640     5640     5640  5640.000000   \n",
              "unique           6      20     4788     5540          NaN   \n",
              "top     SoundCloud      MX  Spotify  Love it          NaN   \n",
              "freq          1000     300       36       10          NaN   \n",
              "mean           NaN     NaN      NaN      NaN     3.554433   \n",
              "std            NaN     NaN      NaN      NaN     1.664505   \n",
              "min            NaN     NaN      NaN      NaN     1.000000   \n",
              "25%            NaN     NaN      NaN      NaN     2.000000   \n",
              "50%            NaN     NaN      NaN      NaN     4.000000   \n",
              "75%            NaN     NaN      NaN      NaN     5.000000   \n",
              "max            NaN     NaN      NaN      NaN     5.000000   \n",
              "\n",
              "                             date  \n",
              "count                        5640  \n",
              "unique                       5637  \n",
              "top     2025-05-21 12:00:56-07:00  \n",
              "freq                            2  \n",
              "mean                          NaN  \n",
              "std                           NaN  \n",
              "min                           NaN  \n",
              "25%                           NaN  \n",
              "50%                           NaN  \n",
              "75%                           NaN  \n",
              "max                           NaN  "
            ],
            "text/html": [
              "\n",
              "  <div id=\"df-1ae6f451-c6c2-4333-8e34-f54c0cdb19a3\" class=\"colab-df-container\">\n",
              "    <div>\n",
              "<style scoped>\n",
              "    .dataframe tbody tr th:only-of-type {\n",
              "        vertical-align: middle;\n",
              "    }\n",
              "\n",
              "    .dataframe tbody tr th {\n",
              "        vertical-align: top;\n",
              "    }\n",
              "\n",
              "    .dataframe thead th {\n",
              "        text-align: right;\n",
              "    }\n",
              "</style>\n",
              "<table border=\"1\" class=\"dataframe\">\n",
              "  <thead>\n",
              "    <tr style=\"text-align: right;\">\n",
              "      <th></th>\n",
              "      <th>app</th>\n",
              "      <th>country</th>\n",
              "      <th>title</th>\n",
              "      <th>review</th>\n",
              "      <th>rating</th>\n",
              "      <th>date</th>\n",
              "    </tr>\n",
              "  </thead>\n",
              "  <tbody>\n",
              "    <tr>\n",
              "      <th>count</th>\n",
              "      <td>5640</td>\n",
              "      <td>5640</td>\n",
              "      <td>5640</td>\n",
              "      <td>5640</td>\n",
              "      <td>5640.000000</td>\n",
              "      <td>5640</td>\n",
              "    </tr>\n",
              "    <tr>\n",
              "      <th>unique</th>\n",
              "      <td>6</td>\n",
              "      <td>20</td>\n",
              "      <td>4788</td>\n",
              "      <td>5540</td>\n",
              "      <td>NaN</td>\n",
              "      <td>5637</td>\n",
              "    </tr>\n",
              "    <tr>\n",
              "      <th>top</th>\n",
              "      <td>SoundCloud</td>\n",
              "      <td>MX</td>\n",
              "      <td>Spotify</td>\n",
              "      <td>Love it</td>\n",
              "      <td>NaN</td>\n",
              "      <td>2025-05-21 12:00:56-07:00</td>\n",
              "    </tr>\n",
              "    <tr>\n",
              "      <th>freq</th>\n",
              "      <td>1000</td>\n",
              "      <td>300</td>\n",
              "      <td>36</td>\n",
              "      <td>10</td>\n",
              "      <td>NaN</td>\n",
              "      <td>2</td>\n",
              "    </tr>\n",
              "    <tr>\n",
              "      <th>mean</th>\n",
              "      <td>NaN</td>\n",
              "      <td>NaN</td>\n",
              "      <td>NaN</td>\n",
              "      <td>NaN</td>\n",
              "      <td>3.554433</td>\n",
              "      <td>NaN</td>\n",
              "    </tr>\n",
              "    <tr>\n",
              "      <th>std</th>\n",
              "      <td>NaN</td>\n",
              "      <td>NaN</td>\n",
              "      <td>NaN</td>\n",
              "      <td>NaN</td>\n",
              "      <td>1.664505</td>\n",
              "      <td>NaN</td>\n",
              "    </tr>\n",
              "    <tr>\n",
              "      <th>min</th>\n",
              "      <td>NaN</td>\n",
              "      <td>NaN</td>\n",
              "      <td>NaN</td>\n",
              "      <td>NaN</td>\n",
              "      <td>1.000000</td>\n",
              "      <td>NaN</td>\n",
              "    </tr>\n",
              "    <tr>\n",
              "      <th>25%</th>\n",
              "      <td>NaN</td>\n",
              "      <td>NaN</td>\n",
              "      <td>NaN</td>\n",
              "      <td>NaN</td>\n",
              "      <td>2.000000</td>\n",
              "      <td>NaN</td>\n",
              "    </tr>\n",
              "    <tr>\n",
              "      <th>50%</th>\n",
              "      <td>NaN</td>\n",
              "      <td>NaN</td>\n",
              "      <td>NaN</td>\n",
              "      <td>NaN</td>\n",
              "      <td>4.000000</td>\n",
              "      <td>NaN</td>\n",
              "    </tr>\n",
              "    <tr>\n",
              "      <th>75%</th>\n",
              "      <td>NaN</td>\n",
              "      <td>NaN</td>\n",
              "      <td>NaN</td>\n",
              "      <td>NaN</td>\n",
              "      <td>5.000000</td>\n",
              "      <td>NaN</td>\n",
              "    </tr>\n",
              "    <tr>\n",
              "      <th>max</th>\n",
              "      <td>NaN</td>\n",
              "      <td>NaN</td>\n",
              "      <td>NaN</td>\n",
              "      <td>NaN</td>\n",
              "      <td>5.000000</td>\n",
              "      <td>NaN</td>\n",
              "    </tr>\n",
              "  </tbody>\n",
              "</table>\n",
              "</div>\n",
              "    <div class=\"colab-df-buttons\">\n",
              "\n",
              "  <div class=\"colab-df-container\">\n",
              "    <button class=\"colab-df-convert\" onclick=\"convertToInteractive('df-1ae6f451-c6c2-4333-8e34-f54c0cdb19a3')\"\n",
              "            title=\"Convert this dataframe to an interactive table.\"\n",
              "            style=\"display:none;\">\n",
              "\n",
              "  <svg xmlns=\"http://www.w3.org/2000/svg\" height=\"24px\" viewBox=\"0 -960 960 960\">\n",
              "    <path d=\"M120-120v-720h720v720H120Zm60-500h600v-160H180v160Zm220 220h160v-160H400v160Zm0 220h160v-160H400v160ZM180-400h160v-160H180v160Zm440 0h160v-160H620v160ZM180-180h160v-160H180v160Zm440 0h160v-160H620v160Z\"/>\n",
              "  </svg>\n",
              "    </button>\n",
              "\n",
              "  <style>\n",
              "    .colab-df-container {\n",
              "      display:flex;\n",
              "      gap: 12px;\n",
              "    }\n",
              "\n",
              "    .colab-df-convert {\n",
              "      background-color: #E8F0FE;\n",
              "      border: none;\n",
              "      border-radius: 50%;\n",
              "      cursor: pointer;\n",
              "      display: none;\n",
              "      fill: #1967D2;\n",
              "      height: 32px;\n",
              "      padding: 0 0 0 0;\n",
              "      width: 32px;\n",
              "    }\n",
              "\n",
              "    .colab-df-convert:hover {\n",
              "      background-color: #E2EBFA;\n",
              "      box-shadow: 0px 1px 2px rgba(60, 64, 67, 0.3), 0px 1px 3px 1px rgba(60, 64, 67, 0.15);\n",
              "      fill: #174EA6;\n",
              "    }\n",
              "\n",
              "    .colab-df-buttons div {\n",
              "      margin-bottom: 4px;\n",
              "    }\n",
              "\n",
              "    [theme=dark] .colab-df-convert {\n",
              "      background-color: #3B4455;\n",
              "      fill: #D2E3FC;\n",
              "    }\n",
              "\n",
              "    [theme=dark] .colab-df-convert:hover {\n",
              "      background-color: #434B5C;\n",
              "      box-shadow: 0px 1px 3px 1px rgba(0, 0, 0, 0.15);\n",
              "      filter: drop-shadow(0px 1px 2px rgba(0, 0, 0, 0.3));\n",
              "      fill: #FFFFFF;\n",
              "    }\n",
              "  </style>\n",
              "\n",
              "    <script>\n",
              "      const buttonEl =\n",
              "        document.querySelector('#df-1ae6f451-c6c2-4333-8e34-f54c0cdb19a3 button.colab-df-convert');\n",
              "      buttonEl.style.display =\n",
              "        google.colab.kernel.accessAllowed ? 'block' : 'none';\n",
              "\n",
              "      async function convertToInteractive(key) {\n",
              "        const element = document.querySelector('#df-1ae6f451-c6c2-4333-8e34-f54c0cdb19a3');\n",
              "        const dataTable =\n",
              "          await google.colab.kernel.invokeFunction('convertToInteractive',\n",
              "                                                    [key], {});\n",
              "        if (!dataTable) return;\n",
              "\n",
              "        const docLinkHtml = 'Like what you see? Visit the ' +\n",
              "          '<a target=\"_blank\" href=https://colab.research.google.com/notebooks/data_table.ipynb>data table notebook</a>'\n",
              "          + ' to learn more about interactive tables.';\n",
              "        element.innerHTML = '';\n",
              "        dataTable['output_type'] = 'display_data';\n",
              "        await google.colab.output.renderOutput(dataTable, element);\n",
              "        const docLink = document.createElement('div');\n",
              "        docLink.innerHTML = docLinkHtml;\n",
              "        element.appendChild(docLink);\n",
              "      }\n",
              "    </script>\n",
              "  </div>\n",
              "\n",
              "\n",
              "    <div id=\"df-e40d82c9-33ee-4dfe-88c3-341f65b050de\">\n",
              "      <button class=\"colab-df-quickchart\" onclick=\"quickchart('df-e40d82c9-33ee-4dfe-88c3-341f65b050de')\"\n",
              "                title=\"Suggest charts\"\n",
              "                style=\"display:none;\">\n",
              "\n",
              "<svg xmlns=\"http://www.w3.org/2000/svg\" height=\"24px\"viewBox=\"0 0 24 24\"\n",
              "     width=\"24px\">\n",
              "    <g>\n",
              "        <path d=\"M19 3H5c-1.1 0-2 .9-2 2v14c0 1.1.9 2 2 2h14c1.1 0 2-.9 2-2V5c0-1.1-.9-2-2-2zM9 17H7v-7h2v7zm4 0h-2V7h2v10zm4 0h-2v-4h2v4z\"/>\n",
              "    </g>\n",
              "</svg>\n",
              "      </button>\n",
              "\n",
              "<style>\n",
              "  .colab-df-quickchart {\n",
              "      --bg-color: #E8F0FE;\n",
              "      --fill-color: #1967D2;\n",
              "      --hover-bg-color: #E2EBFA;\n",
              "      --hover-fill-color: #174EA6;\n",
              "      --disabled-fill-color: #AAA;\n",
              "      --disabled-bg-color: #DDD;\n",
              "  }\n",
              "\n",
              "  [theme=dark] .colab-df-quickchart {\n",
              "      --bg-color: #3B4455;\n",
              "      --fill-color: #D2E3FC;\n",
              "      --hover-bg-color: #434B5C;\n",
              "      --hover-fill-color: #FFFFFF;\n",
              "      --disabled-bg-color: #3B4455;\n",
              "      --disabled-fill-color: #666;\n",
              "  }\n",
              "\n",
              "  .colab-df-quickchart {\n",
              "    background-color: var(--bg-color);\n",
              "    border: none;\n",
              "    border-radius: 50%;\n",
              "    cursor: pointer;\n",
              "    display: none;\n",
              "    fill: var(--fill-color);\n",
              "    height: 32px;\n",
              "    padding: 0;\n",
              "    width: 32px;\n",
              "  }\n",
              "\n",
              "  .colab-df-quickchart:hover {\n",
              "    background-color: var(--hover-bg-color);\n",
              "    box-shadow: 0 1px 2px rgba(60, 64, 67, 0.3), 0 1px 3px 1px rgba(60, 64, 67, 0.15);\n",
              "    fill: var(--button-hover-fill-color);\n",
              "  }\n",
              "\n",
              "  .colab-df-quickchart-complete:disabled,\n",
              "  .colab-df-quickchart-complete:disabled:hover {\n",
              "    background-color: var(--disabled-bg-color);\n",
              "    fill: var(--disabled-fill-color);\n",
              "    box-shadow: none;\n",
              "  }\n",
              "\n",
              "  .colab-df-spinner {\n",
              "    border: 2px solid var(--fill-color);\n",
              "    border-color: transparent;\n",
              "    border-bottom-color: var(--fill-color);\n",
              "    animation:\n",
              "      spin 1s steps(1) infinite;\n",
              "  }\n",
              "\n",
              "  @keyframes spin {\n",
              "    0% {\n",
              "      border-color: transparent;\n",
              "      border-bottom-color: var(--fill-color);\n",
              "      border-left-color: var(--fill-color);\n",
              "    }\n",
              "    20% {\n",
              "      border-color: transparent;\n",
              "      border-left-color: var(--fill-color);\n",
              "      border-top-color: var(--fill-color);\n",
              "    }\n",
              "    30% {\n",
              "      border-color: transparent;\n",
              "      border-left-color: var(--fill-color);\n",
              "      border-top-color: var(--fill-color);\n",
              "      border-right-color: var(--fill-color);\n",
              "    }\n",
              "    40% {\n",
              "      border-color: transparent;\n",
              "      border-right-color: var(--fill-color);\n",
              "      border-top-color: var(--fill-color);\n",
              "    }\n",
              "    60% {\n",
              "      border-color: transparent;\n",
              "      border-right-color: var(--fill-color);\n",
              "    }\n",
              "    80% {\n",
              "      border-color: transparent;\n",
              "      border-right-color: var(--fill-color);\n",
              "      border-bottom-color: var(--fill-color);\n",
              "    }\n",
              "    90% {\n",
              "      border-color: transparent;\n",
              "      border-bottom-color: var(--fill-color);\n",
              "    }\n",
              "  }\n",
              "</style>\n",
              "\n",
              "      <script>\n",
              "        async function quickchart(key) {\n",
              "          const quickchartButtonEl =\n",
              "            document.querySelector('#' + key + ' button');\n",
              "          quickchartButtonEl.disabled = true;  // To prevent multiple clicks.\n",
              "          quickchartButtonEl.classList.add('colab-df-spinner');\n",
              "          try {\n",
              "            const charts = await google.colab.kernel.invokeFunction(\n",
              "                'suggestCharts', [key], {});\n",
              "          } catch (error) {\n",
              "            console.error('Error during call to suggestCharts:', error);\n",
              "          }\n",
              "          quickchartButtonEl.classList.remove('colab-df-spinner');\n",
              "          quickchartButtonEl.classList.add('colab-df-quickchart-complete');\n",
              "        }\n",
              "        (() => {\n",
              "          let quickchartButtonEl =\n",
              "            document.querySelector('#df-e40d82c9-33ee-4dfe-88c3-341f65b050de button');\n",
              "          quickchartButtonEl.style.display =\n",
              "            google.colab.kernel.accessAllowed ? 'block' : 'none';\n",
              "        })();\n",
              "      </script>\n",
              "    </div>\n",
              "\n",
              "    </div>\n",
              "  </div>\n"
            ],
            "application/vnd.google.colaboratory.intrinsic+json": {
              "type": "dataframe",
              "summary": "{\n  \"name\": \"df\",\n  \"rows\": 11,\n  \"fields\": [\n    {\n      \"column\": \"app\",\n      \"properties\": {\n        \"dtype\": \"category\",\n        \"num_unique_values\": 4,\n        \"samples\": [\n          6,\n          \"1000\",\n          \"5640\"\n        ],\n        \"semantic_type\": \"\",\n        \"description\": \"\"\n      }\n    },\n    {\n      \"column\": \"country\",\n      \"properties\": {\n        \"dtype\": \"category\",\n        \"num_unique_values\": 4,\n        \"samples\": [\n          20,\n          \"300\",\n          \"5640\"\n        ],\n        \"semantic_type\": \"\",\n        \"description\": \"\"\n      }\n    },\n    {\n      \"column\": \"title\",\n      \"properties\": {\n        \"dtype\": \"category\",\n        \"num_unique_values\": 4,\n        \"samples\": [\n          4788,\n          \"36\",\n          \"5640\"\n        ],\n        \"semantic_type\": \"\",\n        \"description\": \"\"\n      }\n    },\n    {\n      \"column\": \"review\",\n      \"properties\": {\n        \"dtype\": \"category\",\n        \"num_unique_values\": 4,\n        \"samples\": [\n          5540,\n          \"10\",\n          \"5640\"\n        ],\n        \"semantic_type\": \"\",\n        \"description\": \"\"\n      }\n    },\n    {\n      \"column\": \"rating\",\n      \"properties\": {\n        \"dtype\": \"number\",\n        \"std\": 1992.9194662215186,\n        \"min\": 1.0,\n        \"max\": 5640.0,\n        \"num_unique_values\": 7,\n        \"samples\": [\n          5640.0,\n          3.5544326241134754,\n          4.0\n        ],\n        \"semantic_type\": \"\",\n        \"description\": \"\"\n      }\n    },\n    {\n      \"column\": \"date\",\n      \"properties\": {\n        \"dtype\": \"category\",\n        \"num_unique_values\": 4,\n        \"samples\": [\n          5637,\n          \"2\",\n          \"5640\"\n        ],\n        \"semantic_type\": \"\",\n        \"description\": \"\"\n      }\n    }\n  ]\n}"
            }
          },
          "metadata": {},
          "execution_count": 14
        }
      ],
      "execution_count": 14
    },
    {
      "cell_type": "markdown",
      "source": [
        "## 🎯 Step 4: Total Reviews per Music App\n",
        "We create a bar plot using `seaborn.countplot` to visualize the number of reviews each music app has received. This helps identify which apps are generally more reviewed."
      ],
      "metadata": {
        "id": "DkrxGVpLx2U0"
      }
    },
    {
      "cell_type": "code",
      "source": [
        "# Count of reviews per app\n",
        "\n",
        "plt.figure(figsize=(12, 6))\n",
        "sns.countplot(data=df, x='app', order=df['app'].value_counts().index)\n",
        "plt.title('Number of Reviews per Music App')\n",
        "plt.xticks(rotation=45)\n",
        "plt.tight_layout()\n",
        "plt.show()"
      ],
      "metadata": {
        "trusted": true,
        "execution": {
          "iopub.status.busy": "2025-06-29T22:15:26.792076Z",
          "iopub.execute_input": "2025-06-29T22:15:26.792428Z",
          "iopub.status.idle": "2025-06-29T22:15:26.995029Z",
          "shell.execute_reply.started": "2025-06-29T22:15:26.792405Z",
          "shell.execute_reply": "2025-06-29T22:15:26.994168Z"
        },
        "colab": {
          "base_uri": "https://localhost:8080/",
          "height": 569
        },
        "id": "sgYDwMyjx2U1",
        "outputId": "f71cb33f-ebba-444c-9190-5e41a5934630"
      },
      "outputs": [
        {
          "output_type": "display_data",
          "data": {
            "text/plain": [
              "<Figure size 1200x600 with 1 Axes>"
            ],
            "image/png": "[encoded data removed]"
          },
          "metadata": {}
        }
      ],
      "execution_count": 15
    },
    {
      "cell_type": "code",
      "source": [
        "# Reviews by country\n",
        "plt.figure(figsize=(12, 8))\n",
        "sns.countplot(data=df, x='country', order=df['country'].value_counts().index)\n",
        "plt.title('Number of Reviews by Country')\n",
        "plt.xticks(rotation=45)\n",
        "plt.tight_layout()\n",
        "plt.show()"
      ],
      "metadata": {
        "trusted": true,
        "execution": {
          "iopub.status.busy": "2025-06-29T22:18:20.682037Z",
          "iopub.execute_input": "2025-06-29T22:18:20.682386Z",
          "iopub.status.idle": "2025-06-29T22:18:20.975315Z",
          "shell.execute_reply.started": "2025-06-29T22:18:20.682362Z",
          "shell.execute_reply": "2025-06-29T22:18:20.974346Z"
        },
        "colab": {
          "base_uri": "https://localhost:8080/",
          "height": 756
        },
        "id": "Lpc1_JxXx2U1",
        "outputId": "e1473b63-fae8-4af7-a779-9bd9ff78dfe9"
      },
      "outputs": [
        {
          "output_type": "display_data",
          "data": {
            "text/plain": [
              "<Figure size 1200x800 with 1 Axes>"
            ],
            "image/png": "[encoded data removed]"
          },
          "metadata": {}
        }
      ],
      "execution_count": 16
    },
    {
      "cell_type": "code",
      "source": [
        "# Most loved app in each country by number of reviews\n",
        "most_reviews = df.groupby(['country', 'app']).size().reset_index(name='review count')\n",
        "most_loved = most_reviews.loc[most_reviews.groupby('country')['review count'].idxmax()]"
      ],
      "metadata": {
        "trusted": true,
        "execution": {
          "iopub.status.busy": "2025-06-29T21:39:04.212315Z",
          "iopub.execute_input": "2025-06-29T21:39:04.212660Z",
          "iopub.status.idle": "2025-06-29T21:39:04.222454Z",
          "shell.execute_reply.started": "2025-06-29T21:39:04.212636Z",
          "shell.execute_reply": "2025-06-29T21:39:04.221818Z"
        },
        "id": "aQlRKyDnx2U1"
      },
      "outputs": [],
      "execution_count": 17
    },
    {
      "cell_type": "code",
      "source": [
        "print(\"\\nMost Loved Music App by Country:\")\n",
        "print(most_loved)"
      ],
      "metadata": {
        "trusted": true,
        "execution": {
          "iopub.status.busy": "2025-06-29T21:39:08.027272Z",
          "iopub.execute_input": "2025-06-29T21:39:08.027587Z",
          "iopub.status.idle": "2025-06-29T21:39:08.034300Z",
          "shell.execute_reply.started": "2025-06-29T21:39:08.027563Z",
          "shell.execute_reply": "2025-06-29T21:39:08.033465Z"
        },
        "colab": {
          "base_uri": "https://localhost:8080/",
          "height": 0
        },
        "id": "UwpkGXpDx2U2",
        "outputId": "4e84536c-8878-4e0d-9a19-2e29b2d87e47"
      },
      "outputs": [
        {
          "output_type": "stream",
          "name": "stdout",
          "text": [
            "\n",
            "Most Loved Music App by Country:\n",
            "    country          app  review count\n",
            "0        AU  Apple Music            50\n",
            "6        BR  Apple Music            50\n",
            "12       CA  Apple Music            50\n",
            "18       DE  Apple Music            50\n",
            "24       ES  Apple Music            50\n",
            "30       FI  Apple Music            50\n",
            "36       FR  Apple Music            50\n",
            "42       GB  Apple Music            50\n",
            "48       IN  Apple Music            50\n",
            "52       IT  Apple Music            50\n",
            "58       JP  Apple Music            50\n",
            "63       KR  Apple Music            50\n",
            "68       MX  Apple Music            50\n",
            "74       NL  Apple Music            50\n",
            "80       NO  Apple Music            50\n",
            "86       NZ  Apple Music            50\n",
            "92       PL  Apple Music            50\n",
            "98       RU  Apple Music            50\n",
            "101      SE  Apple Music            50\n",
            "107      US  Apple Music            50\n"
          ]
        }
      ],
      "execution_count": 18
    },
    {
      "cell_type": "markdown",
      "source": [
        "## 🌍 Step 5: Reviews by Country\n",
        "We create another bar plot to visualize the distribution of reviews by country. This gives insight into the geographic diversity of the data and where most of the reviews come from."
      ],
      "metadata": {
        "id": "7A8QpmGox2U2"
      }
    },
    {
      "cell_type": "code",
      "source": [
        "# Plot most loved app in each country\n",
        "plt.figure(figsize=(16, 8))\n",
        "sns.barplot(data=most_loved, x='country', y='review count', hue='app', dodge=False)\n",
        "plt.title('Most Loved Music App in Each Country')\n",
        "plt.xticks(rotation=45)\n",
        "plt.tight_layout()\n",
        "plt.show()"
      ],
      "metadata": {
        "trusted": true,
        "execution": {
          "iopub.status.busy": "2025-06-29T21:39:31.837093Z",
          "iopub.execute_input": "2025-06-29T21:39:31.837644Z",
          "iopub.status.idle": "2025-06-29T21:39:32.245118Z",
          "shell.execute_reply.started": "2025-06-29T21:39:31.837597Z",
          "shell.execute_reply": "2025-06-29T21:39:32.244169Z"
        },
        "colab": {
          "base_uri": "https://localhost:8080/",
          "height": 570
        },
        "id": "djf8eFqlx2U2",
        "outputId": "c631848f-1690-49e3-d2f6-0aa5c9eae2a8"
      },
      "outputs": [
        {
          "output_type": "display_data",
          "data": {
            "text/plain": [
              "<Figure size 1600x800 with 1 Axes>"
            ],
            "image/png": "[encoded data removed]"
          },
          "metadata": {}
        }
      ],
      "execution_count": 19
    },
    {
      "cell_type": "markdown",
      "source": [
        "## 🏆 Step 6: Most Loved Music App in Each Country\n",
        "To find the most loved app per country:\n",
        "- We group the data by `Country` and `App Name`\n",
        "- Count the number of reviews\n",
        "- Use `.idxmax()` to extract the app with the highest count for each country\n",
        "\n",
        "We then display and visualize this information in a grouped bar chart."
      ],
      "metadata": {
        "id": "ME3F742px2U3"
      }
    },
    {
      "cell_type": "code",
      "source": [
        "# If rating column exists, analyze rating distribution\n",
        "if 'rating' in df.columns:\n",
        "    plt.figure(figsize=(10, 6))\n",
        "    sns.histplot(data=df, x='rating', bins=10, kde=True)\n",
        "    plt.title('Distribution of Ratings')\n",
        "    plt.xlabel('Rating')\n",
        "    plt.ylabel('Count')\n",
        "    plt.show()"
      ],
      "metadata": {
        "trusted": true,
        "execution": {
          "iopub.status.busy": "2025-06-29T21:39:44.962261Z",
          "iopub.execute_input": "2025-06-29T21:39:44.962634Z",
          "iopub.status.idle": "2025-06-29T21:39:45.247040Z",
          "shell.execute_reply.started": "2025-06-29T21:39:44.962609Z",
          "shell.execute_reply": "2025-06-29T21:39:45.246102Z"
        },
        "colab": {
          "base_uri": "https://localhost:8080/",
          "height": 564
        },
        "id": "hDFyMPnXx2U3",
        "outputId": "047cf7c1-4839-4663-e2a8-b088bbe3a9b7"
      },
      "outputs": [
        {
          "output_type": "display_data",
          "data": {
            "text/plain": [
              "<Figure size 1000x600 with 1 Axes>"
            ],
            "image/png": "[encoded data removed]"
          },
          "metadata": {}
        }
      ],
      "execution_count": 20
    },
    {
      "cell_type": "code",
      "source": [
        "    # Average rating by app\n",
        "    avg_ratings = df.groupby('app')['rating'].mean().reset_index().sort_values(by='rating', ascending=False)\n",
        "    print(\"\\nAverage Rating by App:\")\n",
        "    print(avg_ratings)"
      ],
      "metadata": {
        "trusted": true,
        "execution": {
          "iopub.status.busy": "2025-06-29T21:40:03.641902Z",
          "iopub.execute_input": "2025-06-29T21:40:03.642315Z",
          "iopub.status.idle": "2025-06-29T21:40:03.655201Z",
          "shell.execute_reply.started": "2025-06-29T21:40:03.642292Z",
          "shell.execute_reply": "2025-06-29T21:40:03.654328Z"
        },
        "colab": {
          "base_uri": "https://localhost:8080/",
          "height": 0
        },
        "id": "pzR6gevnx2U3",
        "outputId": "c71daba3-71d8-4a53-b8f3-441606eecfb2"
      },
      "outputs": [
        {
          "output_type": "stream",
          "name": "stdout",
          "text": [
            "\n",
            "Average Rating by App:\n",
            "           app    rating\n",
            "0  Apple Music  3.875000\n",
            "3   SoundCloud  3.863000\n",
            "2       Shazam  3.844000\n",
            "4      Spotify  3.507368\n",
            "5        TIDAL  3.311250\n",
            "1       Deezer  2.791011\n"
          ]
        }
      ],
      "execution_count": 21
    },
    {
      "cell_type": "markdown",
      "source": [
        "## ⭐ Step 7: Rating Analysis (If Available)\n",
        "If the dataset contains a `Rating` column:\n",
        "- We plot a histogram of ratings to check the distribution\n",
        "- We calculate the average rating for each app\n",
        "- Visualize the average ratings using a bar chart\n",
        "\n",
        "This helps us understand not just the quantity (review count), but also the quality (user satisfaction)."
      ],
      "metadata": {
        "id": "-cTJZgDSx2U3"
      }
    },
    {
      "cell_type": "code",
      "source": [
        "    # Plot average ratings\n",
        "    plt.figure(figsize=(10, 6))\n",
        "    sns.barplot(data=avg_ratings, x='app', y='rating')\n",
        "    plt.title('Average Rating per Music App')\n",
        "    plt.xticks(rotation=45)\n",
        "    plt.ylim(0, 5)\n",
        "    plt.tight_layout()\n",
        "    plt.show()"
      ],
      "metadata": {
        "trusted": true,
        "execution": {
          "iopub.status.busy": "2025-06-29T21:40:19.577338Z",
          "iopub.execute_input": "2025-06-29T21:40:19.577658Z",
          "iopub.status.idle": "2025-06-29T21:40:19.781457Z",
          "shell.execute_reply.started": "2025-06-29T21:40:19.577636Z",
          "shell.execute_reply": "2025-06-29T21:40:19.780547Z"
        },
        "colab": {
          "base_uri": "https://localhost:8080/",
          "height": 607
        },
        "id": "qICSY1yux2U3",
        "outputId": "5ad0e04d-4032-4ca7-8ad1-0c2d6dacb345"
      },
      "outputs": [
        {
          "output_type": "display_data",
          "data": {
            "text/plain": [
              "<Figure size 1000x600 with 1 Axes>"
            ],
            "image/png": "[encoded data removed]"
          },
          "metadata": {}
        }
      ],
      "execution_count": 22
    },
    {
      "cell_type": "markdown",
      "source": [
        "## 📌 Conclusion\n",
        "With this analysis, we can:\n",
        "- Determine the **most reviewed and popular music apps** in each country\n",
        "- Understand **user rating behavior**\n",
        "- Gain insights into **app performance** by geography and sentiment\n",
        "\n",
        "You can use this EDA as a foundation for further modeling, such as sentiment analysis, user segmentation, or recommendation systems."
      ],
      "metadata": {
        "id": "kOsMQ2EUx2U4"
      }
    }
  ]
}